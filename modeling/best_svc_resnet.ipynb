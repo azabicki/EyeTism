{
 "cells": [
  {
   "cell_type": "markdown",
   "metadata": {},
   "source": [
    "# Best SVC Model for ASD Detection \n",
    "### based on our Target Metric F2-Score"
   ]
  },
  {
   "cell_type": "markdown",
   "metadata": {},
   "source": [
    "### Import Libraries needed for Modelling"
   ]
  },
  {
   "cell_type": "code",
   "execution_count": 1,
   "metadata": {},
   "outputs": [],
   "source": [
    "import os\n",
    "import sys\n",
    "\n",
    "import pandas as pd\n",
    "import numpy as np\n",
    "import matplotlib.pyplot as plt\n",
    "import seaborn as sns\n",
    "\n",
    "from sklearn import set_config\n",
    "from sklearn.compose import ColumnTransformer\n",
    "from sklearn.ensemble import RandomForestClassifier\n",
    "from sklearn.ensemble import GradientBoostingClassifier\n",
    "from sklearn.linear_model import LogisticRegression\n",
    "from sklearn.metrics import accuracy_score, confusion_matrix\n",
    "from sklearn.metrics import roc_auc_score, roc_curve\n",
    "from sklearn.metrics import classification_report\n",
    "from sklearn.metrics import fbeta_score, make_scorer\n",
    "from sklearn.model_selection import GridSearchCV\n",
    "from sklearn.model_selection import learning_curve, cross_val_score\n",
    "from sklearn.pipeline import Pipeline\n",
    "from sklearn.preprocessing import RobustScaler, MinMaxScaler, OneHotEncoder, StandardScaler\n",
    "from sklearn.preprocessing import FunctionTransformer\n",
    "from sklearn.svm import SVC\n",
    "from sklearn.tree import DecisionTreeClassifier \n",
    "\n",
    "from xgboost import XGBClassifier\n",
    "\n",
    "# import own modules\n",
    "sys.path.append(\"..\")  # Adds higher directory to python modules path.\n",
    "from scripts import features as ft\n",
    "from scripts import preprocessing as pp\n",
    "from scripts import evaluate_models as em\n",
    "\n",
    "# plt.style.use('https://github.com/dhaitz/matplotlib-stylesheets/raw/master/pitayasmoothie-dark.mplstyle')\n",
    "plt.style.use('https://github.com/dhaitz/matplotlib-stylesheets/raw/master/pitayasmoothie-light.mplstyle')\n",
    "\n",
    "import pickle"
   ]
  },
  {
   "cell_type": "markdown",
   "metadata": {},
   "source": [
    "### Load the Dataframe\n",
    "- Calculate the DF or load it form path\n",
    "- Drop first batch of useless columns\n",
    "- Set id as an index\n",
    "- distinguish between numerical and categorical Columns"
   ]
  },
  {
   "cell_type": "code",
   "execution_count": 2,
   "metadata": {},
   "outputs": [
    {
     "name": "stdout",
     "output_type": "stream",
     "text": [
      " -> dataframe has 7598 instances and 34 columns\n",
      " -> there are 34 numerical columns\n",
      " -> there are 0 categoricals columns\n"
     ]
    }
   ],
   "source": [
    "# path to csv file\n",
    "path_df = os.path.join(\"..\", \"data\", \"df_sam_resnet.csv\")\n",
    "\n",
    "# get features - or recalculate\n",
    "recalculate_df = False\n",
    "if os.path.isfile(path_df) and not recalculate_df:\n",
    "    df = pd.read_csv(path_df)\n",
    "else:\n",
    "    df = ft.get_features()\n",
    "    df.to_csv(path_df, index=False)\n",
    "\n",
    "# set id as index\n",
    "df = df.set_index(\"id\", drop=True)\n",
    "\n",
    "# drop first batch of useless variables\n",
    "df = df.drop(columns=['img', 'sp_idx'])\n",
    "df = df.drop(columns=[col for col in df.columns if \"_obj\" in col])  # drop 'object' columns\n",
    "\n",
    "# find numerical and categorical columns\n",
    "num_cols = df.columns[df.dtypes != \"object\"]\n",
    "cat_cols = df.columns[df.dtypes == \"object\"]\n",
    "\n",
    "# print info\n",
    "print(f\" -> dataframe has {df.shape[0]} instances and {df.shape[1]} columns\")\n",
    "print(f\" -> there are {len(num_cols)} numerical columns\")\n",
    "print(f\" -> there are {len(cat_cols)} categoricals columns\")"
   ]
  },
  {
   "cell_type": "markdown",
   "metadata": {},
   "source": [
    "### Alter the DF a bit more\n",
    "- We only take Participants lower equal 5000 (5 Seconds of Fixation Duration per Picture usually the Picture is only shown for 3 Seconds to the Participant)\n",
    "\n",
    "- Get rid of some Features, which have proven to not give us any value for the Research"
   ]
  },
  {
   "cell_type": "code",
   "execution_count": 3,
   "metadata": {},
   "outputs": [
    {
     "name": "stdout",
     "output_type": "stream",
     "text": [
      " -> dataframe has 7217 instances and 32 columns\n",
      " -> there are 32 numerical columns\n",
      " -> there are 0 categoricals columns\n"
     ]
    }
   ],
   "source": [
    "# processing\n",
    "df = df[df[\"sp_fix_duration_ms_total\"] <= 5000]\n",
    "df = df.drop(columns=['sal_first_above_0.75*max_rank', 'sal_first_above_0.9*max_rank'])\n",
    "\n",
    "# find numerical and categorical columns\n",
    "num_cols = df.columns[df.dtypes != \"object\"]\n",
    "cat_cols = df.columns[df.dtypes == \"object\"]\n",
    "\n",
    "# print info\n",
    "print(f\" -> dataframe has {df.shape[0]} instances and {df.shape[1]} columns\")\n",
    "print(f\" -> there are {len(num_cols)} numerical columns\")\n",
    "print(f\" -> there are {len(cat_cols)} categoricals columns\")"
   ]
  },
  {
   "cell_type": "markdown",
   "metadata": {},
   "source": [
    "### The Features for Best SVC Model\n",
    "\n",
    "- I put them in here Hardcoded\n",
    "- all the selection and Research Work was done in other Notebooks\n",
    "- I Provide 2 lists of Features which u could choose 1 from\n",
    "- because Model runs equally good with 11 or 10 Features"
   ]
  },
  {
   "cell_type": "code",
   "execution_count": 4,
   "metadata": {},
   "outputs": [],
   "source": [
    "# 11 Features List (optional)\n",
    "\n",
    "feature_list = [\"sp_fix_duration_ms_total\",\"sp_fix_duration_ms_mean\",\"sp_fix_duration_ms_var\", \"sal_first_fixation\",\"sal_sum\",\"sal_KLD\", \"obj_t_abs_on_background\",\"obj_t_abs_on_animate\", \"obj_n_fix_background\",\"obj_n_fix_inanimate\",\"obj_n_fix_animate\",\"asd\"]\n",
    "\n",
    "# 10 Features List same as above without \"sp_fix_duration_ms_var\"\n",
    "\n",
    "# feature_list = [\"sp_fix_duration_ms_total\",\"sp_fix_duration_ms_mean\", \"sal_first_fixation\",\"sal_sum\",\"sal_KLD\", \"obj_t_abs_on_background\",\"obj_t_abs_on_animate\", \"obj_n_fix_background\",\"obj_n_fix_inanimate\",\"obj_n_fix_animate\",\"asd\"]"
   ]
  },
  {
   "cell_type": "markdown",
   "metadata": {},
   "source": [
    "# Model Preparation\n",
    "\n",
    "### Split into train & test sets\n",
    "\n",
    "- we defined our own Function \"pp.split\" and Test Set\n",
    "\n",
    "- This ensures we can do better Error Analysis on specific Pictures later\n"
   ]
  },
  {
   "cell_type": "code",
   "execution_count": null,
   "metadata": {},
   "outputs": [
    {
     "name": "stdout",
     "output_type": "stream",
     "text": [
      "train-set has '6485' samples & '11' features\n",
      "test-set has '732' samples - out of '7217'\n",
      "  ~ 10.14% of full dataset\n"
     ]
    }
   ],
   "source": [
    "# prepare features and target\n",
    "X = df[feature_list]\n",
    "y = X.pop(\"asd\")\n",
    "\n",
    "# train-test-split\n",
    "X_train, X_test, y_train, y_test = pp.split(X, y)\n",
    "\n",
    "# print info\n",
    "print(f\"train-set has '{len(y_train)}' samples & '{X.shape[1]}' features\")\n",
    "print(f\"test-set has '{len(y_test)}' samples - out of '{df.shape[0]}'\")\n",
    "print(f\"  ~ {len(y_test) / df.shape[0] * 100:.2f}% of full dataset\")"
   ]
  },
  {
   "cell_type": "markdown",
   "metadata": {},
   "source": [
    "### Set Variables and Columns for Pipeline\n",
    "- define our scoring metric (make_scorer function)\n",
    "- Set Variables for our Model\n",
    "- Behavior for saving Models as pickle File later"
   ]
  },
  {
   "cell_type": "code",
   "execution_count": null,
   "metadata": {},
   "outputs": [],
   "source": [
    "# metric\n",
    "ftwo_scorer = make_scorer(fbeta_score, beta=2)\n",
    "\n",
    "# defaults\n",
    "RSEED = 42\n",
    "cv = 10\n",
    "n_jobs = -1\n",
    "verbose = 1\n",
    "\n",
    "\n",
    "# find numerical and categorical columns\n",
    "num_cols = X_train.columns[X_train.dtypes != \"object\"]\n",
    "cat_cols = X_train.columns[X_train.dtypes == \"object\"]"
   ]
  },
  {
   "cell_type": "markdown",
   "metadata": {},
   "source": [
    "### Pipeline & Grid Search CV\n",
    "- Defining the SVC Pipeline\n",
    "- Define the Grid Search Grid we use"
   ]
  },
  {
   "cell_type": "code",
   "execution_count": null,
   "metadata": {},
   "outputs": [],
   "source": [
    "# The Column Transformer and Operations to do on Columns\n",
    "# add other transformations at the end if needed\n",
    "transformer = [(\"scaler\", StandardScaler(), num_cols),\n",
    "               (\"ohe\", OneHotEncoder(drop=\"first\"), cat_cols  )]\n",
    "\n",
    "# Add our transformer to a ColumnTransformer Object               \n",
    "preprocessing = ColumnTransformer(transformer,\n",
    "                                  remainder=\"passthrough\")\n",
    "\n",
    "\n",
    "# The Pipeline for the SVC Model\n",
    "# Support Vector Classifier: apply scaling / encoding\n",
    "svc_pipeline = Pipeline([\n",
    "    (\"preprocessor\", preprocessing),\n",
    "    (\"classifier\",SVC(probability=True))\n",
    "])\n",
    "\n",
    "\n",
    "# Support Vector Classifier Parameter Grid\n",
    "param_grid_svc = {\n",
    "    'classifier__kernel': ['linear', 'poly', 'rbf', 'sigmoid'],  # Kernel types to try\n",
    "    'classifier__C': [0.1, 1, 10, 100],  # Regularization parameter values\n",
    "    'classifier__gamma': ['scale', 'auto'],  # Gamma parameter for RBF kernel\n",
    "    'classifier__degree': [2, 3, 4]  # Degree of the polynomial kernel (only for poly kernel)\n",
    "}"
   ]
  },
  {
   "cell_type": "markdown",
   "metadata": {},
   "source": [
    "### Fit the GridSearchCV with our Gridi and Pipeline\n",
    "- Define GridSearchCV Model parameters\n",
    "- Fit on Training Data\n",
    "- Get the best parameters and estimators\n"
   ]
  },
  {
   "cell_type": "code",
   "execution_count": null,
   "metadata": {},
   "outputs": [
    {
     "name": "stdout",
     "output_type": "stream",
     "text": [
      "Fitting 10 folds for each of 96 candidates, totalling 960 fits\n"
     ]
    },
    {
     "name": "stderr",
     "output_type": "stream",
     "text": [
      "/Users/stefanschloegl/Desktop/neuefische/Capstone_project/.venv/lib/python3.11/site-packages/joblib/externals/loky/backend/fork_exec.py:38: RuntimeWarning: os.fork() was called. os.fork() is incompatible with multithreaded code, and JAX is multithreaded, so this will likely lead to a deadlock.\n",
      "  pid = os.fork()\n"
     ]
    },
    {
     "name": "stderr",
     "output_type": "stream",
     "text": [
      "/Users/stefanschloegl/Desktop/neuefische/Capstone_project/.venv/lib/python3.11/site-packages/joblib/externals/loky/backend/fork_exec.py:38: RuntimeWarning: os.fork() was called. os.fork() is incompatible with multithreaded code, and JAX is multithreaded, so this will likely lead to a deadlock.\n",
      "  pid = os.fork()\n"
     ]
    }
   ],
   "source": [
    "# Create GridSearchCV object\n",
    "grid_search_svc = GridSearchCV(\n",
    "    svc_pipeline,\n",
    "    param_grid=param_grid_svc,\n",
    "    cv=cv,\n",
    "    scoring=ftwo_scorer,\n",
    "    n_jobs=n_jobs,\n",
    "    verbose=verbose,\n",
    ")\n",
    "\n",
    "# Fit the Model\n",
    "grid_search_svc.fit(X_train, y_train)\n",
    "\n",
    "# Get the best parameters and best estimator\n",
    "best_params_svc = grid_search_svc.best_params_\n",
    "best_est_svc = grid_search_svc.best_estimator_\n",
    "print(\"Best params for SVC are:\", best_params_svc)\n",
    "print(\"Best est for SVC are:\", best_est_svc)"
   ]
  },
  {
   "cell_type": "markdown",
   "metadata": {},
   "source": [
    "### Predict on Test and Train Set for Evaluation\n",
    "- 1 Prediction as Classification - 0 or 1\n",
    "- 1 Predict Proba - gets back the Probability for a Class"
   ]
  },
  {
   "cell_type": "code",
   "execution_count": null,
   "metadata": {},
   "outputs": [],
   "source": [
    "# predict & proba\n",
    "pred_test = grid_search_svc.predict(X_test)\n",
    "proba_test = grid_search_svc.predict_proba(X_test)\n",
    "\n",
    "pred_train = grid_search_svc.predict(X_train)\n",
    "proba_train = grid_search_svc.predict_proba(X_train)"
   ]
  },
  {
   "cell_type": "markdown",
   "metadata": {},
   "source": [
    "### Evaluate the Model with own Functions\n",
    "- em.report gives back a full Evaluation Report\n",
    "- Learning Curves show the Behaviour of the Model (e.g over/ underfitting)"
   ]
  },
  {
   "cell_type": "code",
   "execution_count": null,
   "metadata": {},
   "outputs": [],
   "source": [
    "# evaluate model\n",
    "em.report(\n",
    "    y_train=y_train,\n",
    "    y_train_pred=pred_train,\n",
    "    y_train_proba=proba_train,\n",
    "    y_test=y_test,\n",
    "    y_test_pred=pred_test,\n",
    "    y_test_proba=proba_test,\n",
    ")"
   ]
  },
  {
   "cell_type": "code",
   "execution_count": null,
   "metadata": {},
   "outputs": [],
   "source": [
    "# learning curves - for one model - f2 score\n",
    "em.learning(best_est_svc, X_train, y_train)"
   ]
  },
  {
   "cell_type": "code",
   "execution_count": null,
   "metadata": {},
   "outputs": [],
   "source": [
    "em.model_info(best_est_svc)"
   ]
  },
  {
   "cell_type": "markdown",
   "metadata": {},
   "source": [
    "### Safe Model as Pickle File"
   ]
  },
  {
   "cell_type": "code",
   "execution_count": null,
   "metadata": {},
   "outputs": [],
   "source": [
    "# Save the best estimator to a pickle file\n",
    "with open('best_svc_resnet.pkl', 'wb') as file:\n",
    "    pickle.dump(best_est_svc, file)"
   ]
  }
 ],
 "metadata": {
  "kernelspec": {
   "display_name": ".venv",
   "language": "python",
   "name": "python3"
  },
  "language_info": {
   "codemirror_mode": {
    "name": "ipython",
    "version": 3
   },
   "file_extension": ".py",
   "mimetype": "text/x-python",
   "name": "python",
   "nbconvert_exporter": "python",
   "pygments_lexer": "ipython3",
   "version": "3.11.3"
  }
 },
 "nbformat": 4,
 "nbformat_minor": 2
}
