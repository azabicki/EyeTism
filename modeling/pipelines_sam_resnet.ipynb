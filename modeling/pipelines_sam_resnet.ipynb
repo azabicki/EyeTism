{
 "cells": [
  {
   "cell_type": "code",
   "execution_count": null,
   "metadata": {},
   "outputs": [],
   "source": []
  },
  {
   "cell_type": "code",
   "execution_count": null,
   "metadata": {},
   "outputs": [],
   "source": [
    "import shutil\n",
    "import os\n",
    "def copy_images_by_id(df, source_folder, destination_folder):\n",
    "    \"\"\"\n",
    "    Copies images from Individual_FixMaps folder to Train folder based on the id (index) in the X_train_df dataFrame.\n",
    "    Args:\n",
    "    - df : Dataframe where the functions copy images by id will be called for\n",
    "    - source_folder : folder where image will be copied from\n",
    "    - destination_folder : folder where images will be copied to\n",
    "    Returns:\n",
    "    - None\n",
    "    \"\"\"\n",
    "    if not os.path.exists(destination_folder):\n",
    "        os.makedirs(destination_folder)\n",
    "    asd = []\n",
    "    filename = []\n",
    "    # Loop through the index of the X_train_df\n",
    "    for id in df.index:\n",
    "        source_path = os.path.join(source_folder, f\"{id}.jpg\")\n",
    "        destination_path = os.path.join(destination_folder, f\"{id}.jpg\")\n",
    "        filename.append(destination_path)\n",
    "        if 'asd' in id:\n",
    "            asd.append('1')\n",
    "        else:\n",
    "            asd.append('0')\n",
    "        # Check if the image file exists in the \"Individual_FixMaps\" folder\n",
    "        if os.path.exists(source_path):\n",
    "        # Copy the image file to the \"Train\" folder\n",
    "            shutil.copyfile(source_path, destination_path)\n",
    "            print(f\"Copied image {id}.jpg\")\n",
    "        else:\n",
    "            print(f\"Image {id}.jpg not found in the source folder.\")\n",
    "    dataframe_obtained = pd.DataFrame({'asd': asd, 'filename' : filename})\n",
    "    return dataframe_obtained\n",
    "# define source folder\n",
    "source_folder = '/Users/marianosantoro/Desktop/neuefische/Capstone_project/data/Saliency4ASD/TrainingData/Individual_FixMaps'\n",
    "# define destination folder\n",
    "destination_folder = '/Users/marianosantoro/Desktop/neuefische/Capstone_project/data/CNN/Train'\n",
    "train_data = copy_images_by_id(X_train_df, source_folder, destination_folder)\n",
    "train_data.to_csv(os.path.join(destination_folder, \"..\", 'train_data.csv'), index=False)"
   ]
  }
 ],
 "metadata": {
  "kernelspec": {
   "display_name": ".venv",
   "language": "python",
   "name": "python3"
  },
  "language_info": {
   "name": "python",
   "version": "3.11.3"
  }
 },
 "nbformat": 4,
 "nbformat_minor": 2
}
