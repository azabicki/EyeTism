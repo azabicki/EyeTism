{
 "cells": [
  {
   "cell_type": "code",
   "execution_count": null,
   "metadata": {},
   "outputs": [],
   "source": [
    "!pip install -q mediapipe #pip install mediapipe"
   ]
  },
  {
   "cell_type": "code",
   "execution_count": 8,
   "metadata": {},
   "outputs": [
    {
     "ename": "ModuleNotFoundError",
     "evalue": "No module named 'scripts'",
     "output_type": "error",
     "traceback": [
      "\u001b[0;31m---------------------------------------------------------------------------\u001b[0m",
      "\u001b[0;31mModuleNotFoundError\u001b[0m                       Traceback (most recent call last)",
      "Cell \u001b[0;32mIn[8], line 6\u001b[0m\n\u001b[1;32m      4\u001b[0m \u001b[38;5;28;01mimport\u001b[39;00m \u001b[38;5;21;01mcv2\u001b[39;00m\n\u001b[1;32m      5\u001b[0m \u001b[38;5;28;01mimport\u001b[39;00m \u001b[38;5;21;01mnumpy\u001b[39;00m \u001b[38;5;28;01mas\u001b[39;00m \u001b[38;5;21;01mnp\u001b[39;00m\n\u001b[0;32m----> 6\u001b[0m \u001b[38;5;28;01mfrom\u001b[39;00m \u001b[38;5;21;01mscripts\u001b[39;00m \u001b[38;5;28;01mimport\u001b[39;00m utils \u001b[38;5;28;01mas\u001b[39;00m ut\n",
      "\u001b[0;31mModuleNotFoundError\u001b[0m: No module named 'scripts'"
     ]
    }
   ],
   "source": [
    "import mediapipe as mp\n",
    "from mediapipe.tasks import python\n",
    "from mediapipe.tasks.python import vision\n",
    "import cv2\n",
    "import numpy as np"
   ]
  },
  {
   "cell_type": "code",
   "execution_count": null,
   "metadata": {},
   "outputs": [],
   "source": [
    "#  select and download pre-trained model (Mediapipe Object Detector) and store it in a local directory\n",
    "model_path = '/absolute/path/to/lite-model_efficientdet_lite0_detection_metadata_1.tflite'"
   ]
  },
  {
   "cell_type": "code",
   "execution_count": null,
   "metadata": {},
   "outputs": [],
   "source": [
    "BaseOptions = mp.tasks.BaseOptions\n",
    "ObjectDetector = mp.tasks.vision.ObjectDetector\n",
    "ObjectDetectorOptions = mp.tasks.vision.ObjectDetectorOptions\n",
    "VisionRunningMode = mp.tasks.vision.RunningMode\n",
    "\n",
    "options = ObjectDetectorOptions(\n",
    "    base_options=BaseOptions(model_asset_path='/path/to/model.tflite'),\n",
    "    max_results=5,\n",
    "    running_mode=VisionRunningMode.IMAGE)\n",
    "\n",
    "with ObjectDetector.create_from_options(options) as detector:"
   ]
  },
  {
   "cell_type": "code",
   "execution_count": null,
   "metadata": {},
   "outputs": [],
   "source": [
    "#load image using OpenCV\n",
    "image= cv.imread(../'data')"
   ]
  },
  {
   "cell_type": "code",
   "execution_count": 3,
   "metadata": {},
   "outputs": [
    {
     "ename": "NameError",
     "evalue": "name 'ut' is not defined",
     "output_type": "error",
     "traceback": [
      "\u001b[0;31m---------------------------------------------------------------------------\u001b[0m",
      "\u001b[0;31mNameError\u001b[0m                                 Traceback (most recent call last)",
      "Cell \u001b[0;32mIn[3], line 2\u001b[0m\n\u001b[1;32m      1\u001b[0m \u001b[38;5;66;03m# loop scanpaths\u001b[39;00m\n\u001b[0;32m----> 2\u001b[0m sps \u001b[38;5;241m=\u001b[39m \u001b[43mut\u001b[49m\u001b[38;5;241m.\u001b[39mload_scanpath(sp_file)\n\u001b[1;32m      3\u001b[0m \u001b[38;5;28;01mfor\u001b[39;00m sp_i, sp \u001b[38;5;129;01min\u001b[39;00m \u001b[38;5;28menumerate\u001b[39m(sps):\n\u001b[1;32m      4\u001b[0m \u001b[38;5;66;03m# id\u001b[39;00m\n\u001b[1;32m      5\u001b[0m     \u001b[38;5;28mid\u001b[39m \u001b[38;5;241m=\u001b[39m ut\u001b[38;5;241m.\u001b[39mget_sp_id(sp_file, sp_i)\n",
      "\u001b[0;31mNameError\u001b[0m: name 'ut' is not defined"
     ]
    }
   ],
   "source": [
    "# loop scanpaths\n",
    "sps = ut.load_scanpath(sp_file)\n",
    "for sp_i, sp in enumerate(sps):\n",
    "# id\n",
    "    id = ut.get_sp_id(sp_file, sp_i)\n",
    "    df_sp = pd.DataFrame(pd.Series(id), columns=[\"id\"])"
   ]
  },
  {
   "cell_type": "code",
   "execution_count": null,
   "metadata": {},
   "outputs": [],
   "source": [
    "import cv2\n",
    "import mediapipe as mp\n",
    "import numpy as np\n",
    "\n",
    "# Load Mediapipe object detection model\n",
    "mp_objectron = mp.solutions.objectron\n",
    "objectron = mp_objectron.Objectron()\n",
    "\n",
    "# Load gaze coordinates x,y, duration \n",
    "gaze_data = [...]  # Load your gaze data here\n",
    "\n",
    "# Load 300 images\n",
    "images = [...]  # Load your images here\n",
    "\n",
    "# Initialize list to store extracted features\n",
    "extracted_features = []\n",
    "\n",
    "# Process each image\n",
    "for image, gaze_coords in zip(images, gaze_data):\n",
    "    # Convert image to RGB\n",
    "    image_rgb = cv2.cvtColor(image, cv2.COLOR_BGR2RGB)\n",
    "\n",
    "    # Perform object detection\n",
    "    results = objectron.process(image_rgb)\n",
    "\n",
    "    # Extract features from detected objects that fall within gaze coordinates\n",
    "    if results.detected_objects:\n",
    "        for detected_object in results.detected_objects:\n",
    "            # Extract bounding box coordinates of detected object\n",
    "            bbox = detected_object.bounding_box\n",
    "\n",
    "            # Check if gaze coordinates fall within bounding box\n",
    "            if bbox[0].x < gaze_coords[0] < bbox[2].x and bbox[0].y < gaze_coords[1] < bbox[2].y:\n",
    "                # Extract features from detected_object\n",
    "                features = [...]  # Extract features here\n",
    "                extracted_features.append(features)\n",
    "\n",
    "# Convert extracted features to numpy array\n",
    "extracted_features = np.array(extracted_features)\n"
   ]
  }
 ],
 "metadata": {
  "kernelspec": {
   "display_name": ".venv",
   "language": "python",
   "name": "python3"
  },
  "language_info": {
   "codemirror_mode": {
    "name": "ipython",
    "version": 3
   },
   "file_extension": ".py",
   "mimetype": "text/x-python",
   "name": "python",
   "nbconvert_exporter": "python",
   "pygments_lexer": "ipython3",
   "version": "3.11.3"
  }
 },
 "nbformat": 4,
 "nbformat_minor": 2
}
